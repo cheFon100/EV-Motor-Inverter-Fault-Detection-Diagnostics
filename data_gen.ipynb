{
  "nbformat": 4,
  "nbformat_minor": 0,
  "metadata": {
    "colab": {
      "provenance": [],
      "authorship_tag": "ABX9TyMxje9YjoSPzLi/kgd40Mul"
    },
    "kernelspec": {
      "name": "python3",
      "display_name": "Python 3"
    },
    "language_info": {
      "name": "python"
    }
  },
  "cells": [
    {
      "cell_type": "code",
      "execution_count": null,
      "metadata": {
        "id": "FPOGhvqGyd65"
      },
      "outputs": [],
      "source": [
        "import os, argparse, json\n",
        "import numpy as np\n",
        "from pathlib import Path\n",
        "from sim_motor import MotorParams, InvParams, SimConfig, FaultConfig, MotorInverterSim\n",
        "from faults import default_scenarios\n",
        "\n",
        "\n",
        "def gen_one(outdir, speed_rpm, load_torque, scen, idx, seed=0):\n",
        "    np.random.seed(seed+idx)\n",
        "    fs = 20000.0\n",
        "    t_end = 2.0\n",
        "    sc = SimConfig(fs=fs, t_end=t_end, speed_mech_rpm=speed_rpm, load_torque=load_torque)\n",
        "    fc = FaultConfig(kind=scen.kind, phase=scen.phase, severity=scen.severity)\n",
        "    sim = MotorInverterSim(MotorParams(), InvParams(), sc, fc)\n",
        "    data = sim.run()\n",
        "    # add sensor noise\n",
        "    for k in ['ia','ib','ic','va','vb','vc']:\n",
        "        data[k] = data[k] + 0.01*np.random.randn(len(data[k]))\n",
        "    meta = {\n",
        "        'label': scen.kind, 'phase': scen.phase, 'severity': scen.severity,\n",
        "        'speed_rpm': speed_rpm, 'load_torque': load_torque, 'fs': data['fs']\n",
        "    }\n",
        "    np.savez(os.path.join(outdir, f\"sample_{idx:05d}.npz\"), **data)\n",
        "    with open(os.path.join(outdir, f\"sample_{idx:05d}.json\"), 'w') as f:\n",
        "        json.dump(meta, f)\n",
        "\n",
        "\n",
        "def main():\n",
        "    ap = argparse.ArgumentParser()\n",
        "    ap.add_argument('--out', type=str, default='data/raw')\n",
        "    ap.add_argument('--n_scen', type=int, default=60)\n",
        "    ap.add_argument('--seed', type=int, default=0)\n",
        "    args = ap.parse_args()\n",
        "\n",
        "    Path(args.out).mkdir(parents=True, exist_ok=True)\n",
        "\n",
        "    speeds = np.linspace(800, 2600, 6)  # create domain variety\n",
        "    loads  = np.linspace(6, 14, 5)\n",
        "    scens = default_scenarios()\n",
        "\n",
        "    idx = 0\n",
        "    for i in range(args.n_scen):\n",
        "        speed = float(np.random.choice(speeds))\n",
        "        load  = float(np.random.choice(loads))\n",
        "        scen  = np.random.choice(scens)\n",
        "        gen_one(args.out, speed, load, scen, idx, seed=args.seed)\n",
        "        idx += 1\n",
        "\n",
        "if _name_ == '_main_':\n",
        "    main()"
      ]
    }
  ]
}